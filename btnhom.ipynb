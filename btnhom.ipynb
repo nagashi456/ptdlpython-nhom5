{
 "cells": [
  {
   "cell_type": "code",
   "execution_count": 8,
   "id": "127b0db3",
   "metadata": {},
   "outputs": [],
   "source": [
    "import pandas as pd\n",
    "\n",
    "# Đọc file Excel\n",
    "df = pd.read_excel('data.xlsx')"
   ]
  },
  {
   "cell_type": "code",
   "execution_count": 9,
   "id": "31bde33b",
   "metadata": {},
   "outputs": [
    {
     "name": "stdout",
     "output_type": "stream",
     "text": [
      "5 hàng đầu tiên của dataset:\n",
      "   Customer ID  Age Gender Item Purchased  Category  Purchase Amount (USD)  \\\n",
      "0            1   55   Male         Blouse  Clothing                     53   \n",
      "1            2   19   Male        Sweater  Clothing                     64   \n",
      "2            3   50   Male          Jeans  Clothing                     73   \n",
      "3            4   21   Male        Sandals  Footwear                     90   \n",
      "4            5   45   Male         Blouse  Clothing                     49   \n",
      "\n",
      "        Location Size      Color  Season        Review Rating  \\\n",
      "0       Kentucky    L       Gray  Winter  2025-01-03 00:00:00   \n",
      "1          Maine    L     Maroon  Winter  2025-01-03 00:00:00   \n",
      "2  Massachusetts    S     Maroon  Spring  2025-01-03 00:00:00   \n",
      "3   Rhode Island    M     Maroon  Spring  2025-05-03 00:00:00   \n",
      "4         Oregon    M  Turquoise  Spring  2025-07-02 00:00:00   \n",
      "\n",
      "  Subscription Status Payment Method  Shipping Type Discount Applied  \\\n",
      "0                 Yes    Credit Card        Express              Yes   \n",
      "1                 Yes  Bank Transfer        Express              Yes   \n",
      "2                 Yes           Cash  Free Shipping              Yes   \n",
      "3                 Yes         PayPal   Next Day Air              Yes   \n",
      "4                 Yes           Cash  Free Shipping              Yes   \n",
      "\n",
      "  Promo Code Used  Previous Purchases Preferred Payment Method  \\\n",
      "0             Yes                  14                    Venmo   \n",
      "1             Yes                   2                     Cash   \n",
      "2             Yes                  23              Credit Card   \n",
      "3             Yes                  49                   PayPal   \n",
      "4             Yes                  31                   PayPal   \n",
      "\n",
      "  Frequency of Purchases Date of Purchase  \n",
      "0            Fortnightly       2025-02-26  \n",
      "1            Fortnightly       2025-01-31  \n",
      "2                 Weekly       2024-05-29  \n",
      "3                 Weekly       2024-05-27  \n",
      "4               Annually       2024-04-23  \n"
     ]
    }
   ],
   "source": [
    "# In 5 hàng đầu tiên để kiểm tra\n",
    "print(\"5 hàng đầu tiên của dataset:\")\n",
    "print(df.head())\n",
    "\n"
   ]
  },
  {
   "cell_type": "code",
   "execution_count": 10,
   "id": "bd6b8cde",
   "metadata": {},
   "outputs": [
    {
     "name": "stdout",
     "output_type": "stream",
     "text": [
      "\n",
      "Thông tin dataset:\n",
      "<class 'pandas.core.frame.DataFrame'>\n",
      "RangeIndex: 3900 entries, 0 to 3899\n",
      "Data columns (total 20 columns):\n",
      " #   Column                    Non-Null Count  Dtype         \n",
      "---  ------                    --------------  -----         \n",
      " 0   Customer ID               3900 non-null   int64         \n",
      " 1   Age                       3900 non-null   int64         \n",
      " 2   Gender                    3900 non-null   object        \n",
      " 3   Item Purchased            3900 non-null   object        \n",
      " 4   Category                  3900 non-null   object        \n",
      " 5   Purchase Amount (USD)     3900 non-null   int64         \n",
      " 6   Location                  3900 non-null   object        \n",
      " 7   Size                      3900 non-null   object        \n",
      " 8   Color                     3900 non-null   object        \n",
      " 9   Season                    3900 non-null   object        \n",
      " 10  Review Rating             3900 non-null   object        \n",
      " 11  Subscription Status       3900 non-null   object        \n",
      " 12  Payment Method            3900 non-null   object        \n",
      " 13  Shipping Type             3900 non-null   object        \n",
      " 14  Discount Applied          3900 non-null   object        \n",
      " 15  Promo Code Used           3900 non-null   object        \n",
      " 16  Previous Purchases        3900 non-null   int64         \n",
      " 17  Preferred Payment Method  3900 non-null   object        \n",
      " 18  Frequency of Purchases    3900 non-null   object        \n",
      " 19  Date of Purchase          3900 non-null   datetime64[ns]\n",
      "dtypes: datetime64[ns](1), int64(4), object(15)\n",
      "memory usage: 609.5+ KB\n",
      "None\n"
     ]
    }
   ],
   "source": [
    "# In thông tin cơ bản của dataset\n",
    "print(\"\\nThông tin dataset:\")\n",
    "print(df.info())"
   ]
  },
  {
   "cell_type": "code",
   "execution_count": 11,
   "id": "799b0b26",
   "metadata": {},
   "outputs": [
    {
     "name": "stdout",
     "output_type": "stream",
     "text": [
      "Giá trị thiếu trong mỗi cột:\n",
      "Customer ID                 0\n",
      "Age                         0\n",
      "Gender                      0\n",
      "Item Purchased              0\n",
      "Category                    0\n",
      "Purchase Amount (USD)       0\n",
      "Location                    0\n",
      "Size                        0\n",
      "Color                       0\n",
      "Season                      0\n",
      "Review Rating               0\n",
      "Subscription Status         0\n",
      "Payment Method              0\n",
      "Shipping Type               0\n",
      "Discount Applied            0\n",
      "Promo Code Used             0\n",
      "Previous Purchases          0\n",
      "Preferred Payment Method    0\n",
      "Frequency of Purchases      0\n",
      "Date of Purchase            0\n",
      "dtype: int64\n"
     ]
    }
   ],
   "source": [
    "# Kiểm tra giá trị thiếu\n",
    "print(\"Giá trị thiếu trong mỗi cột:\")\n",
    "print(df.isnull().sum())"
   ]
  },
  {
   "cell_type": "code",
   "execution_count": 15,
   "id": "011b1f68",
   "metadata": {},
   "outputs": [],
   "source": [
    "# Hàm xử lý outliers\n",
    "def handle_outliers(df, column):\n",
    "    Q1 = df[column].quantile(0.25)\n",
    "    Q3 = df[column].quantile(0.75)\n",
    "    IQR = Q3 - Q1\n",
    "    lower_bound = Q1 - 1.5 * IQR\n",
    "    upper_bound = Q3 + 1.5 * IQR\n",
    "    df[column] = df[column].clip(lower=lower_bound, upper=upper_bound)\n",
    "    return df\n"
   ]
  },
  {
   "cell_type": "code",
   "execution_count": null,
   "id": "e942dc50",
   "metadata": {},
   "outputs": [],
   "source": [
    "# Chọn cột cho RFM\n",
    "rfm_cols = ['Customer ID', 'Date of Purchase', 'Previous Purchases', 'Purchase Amount (USD)']\n",
    "rfm_df = df[rfm_cols].copy()\n"
   ]
  },
  {
   "cell_type": "code",
   "execution_count": 19,
   "id": "010fc0b1",
   "metadata": {},
   "outputs": [],
   "source": [
    "# Đảm bảo cột ngày\n",
    "df['Date of Purchase'] = pd.to_datetime(df['Date of Purchase'])"
   ]
  },
  {
   "cell_type": "code",
   "execution_count": 22,
   "id": "31ac5071",
   "metadata": {},
   "outputs": [
    {
     "name": "stdout",
     "output_type": "stream",
     "text": [
      "Dữ liệu sau khi chuẩn hóa Date of Purchase thành Recency:\n",
      "   Customer ID Date of Purchase  Recency\n",
      "0            1       2025-02-26       47\n",
      "1            2       2025-01-31       73\n",
      "2            3       2024-05-29      320\n",
      "3            4       2024-05-27      322\n",
      "4            5       2024-04-23      356\n",
      "\n",
      "Kết quả RFM:\n",
      "   Customer ID  Recency  Frequency  Monetary RFM_Score   Segment\n",
      "0            1       47         15        53       422    Recent\n",
      "1            2       73          3        64       413    Recent\n",
      "2            3      320         24        73       123   At Risk\n",
      "3            4      322         50        90       144  Frequent\n",
      "4            5      356         32        49       132  Frequent\n"
     ]
    }
   ],
   "source": [
    "from datetime import datetime\n",
    "\n",
    "# Ngày hiện tại\n",
    "current_date = datetime(2025, 4, 14)\n",
    "\n",
    "# Tính Recency (số ngày từ Date of Purchase đến ngày hiện tại)\n",
    "rfm_df['Recency'] = (current_date - rfm_df['Date of Purchase']).dt.days\n",
    "\n",
    "# Đảm bảo không có giá trị âm (nếu Date of Purchase lớn hơn ngày hiện tại)\n",
    "rfm_df['Recency'] = rfm_df['Recency'].clip(lower=0)\n",
    "\n",
    "# Kiểm tra kết quả\n",
    "print(\"Dữ liệu sau khi chuẩn hóa Date of Purchase thành Recency:\")\n",
    "print(rfm_df[['Customer ID', 'Date of Purchase', 'Recency']].head())\n",
    "# Tính Frequency và Monetary\n",
    "rfm_df['Frequency'] = rfm_df['Previous Purchases'] + 1  # Cộng 1 để tính giao dịch hiện tại\n",
    "rfm_df['Monetary'] = rfm_df['Purchase Amount (USD)']\n",
    "\n",
    "# Xếp hạng RFM (1-4)\n",
    "rfm_df['R_Score'] = pd.qcut(rfm_df['Recency'], 4, labels=[4, 3, 2, 1], duplicates='drop')  # Recency thấp = tốt\n",
    "rfm_df['F_Score'] = pd.qcut(rfm_df['Frequency'].rank(method='first'), 4, labels=[1, 2, 3, 4])  # Frequency cao = tốt\n",
    "rfm_df['M_Score'] = pd.qcut(rfm_df['Monetary'], 4, labels=[1, 2, 3, 4], duplicates='drop')  # Monetary cao = tốt\n",
    "\n",
    "# Tính RFM Score\n",
    "rfm_df['RFM_Score'] = rfm_df['R_Score'].astype(str) + rfm_df['F_Score'].astype(str) + rfm_df['M_Score'].astype(str)\n",
    "\n",
    "# Phân đoạn khách hàng\n",
    "def segment_customer(row):\n",
    "    if row['RFM_Score'] == '444':\n",
    "        return 'Best Customers'\n",
    "    elif row['R_Score'] >= 3 and row['F_Score'] >= 3:\n",
    "        return 'Loyal'\n",
    "    elif row['R_Score'] == 4:\n",
    "        return 'Recent'\n",
    "    elif row['R_Score'] <= 2 and row['F_Score'] <= 2:\n",
    "        return 'At Risk'\n",
    "    elif row['F_Score'] >= 3:\n",
    "        return 'Frequent'\n",
    "    else:\n",
    "        return 'Others'\n",
    "\n",
    "rfm_df['Segment'] = rfm_df.apply(segment_customer, axis=1)\n",
    "\n",
    "# Kiểm tra kết quả\n",
    "print(\"\\nKết quả RFM:\")\n",
    "print(rfm_df[['Customer ID', 'Recency', 'Frequency', 'Monetary', 'RFM_Score', 'Segment']].head())"
   ]
  },
  {
   "cell_type": "code",
   "execution_count": 25,
   "id": "ca571a36",
   "metadata": {},
   "outputs": [
    {
     "data": {
      "image/png": "[encoded data removed]",
      "text/plain": [
       "<Figure size 640x480 with 1 Axes>"
      ]
     },
     "metadata": {},
     "output_type": "display_data"
    }
   ],
   "source": [
    "import seaborn as sns\n",
    "import matplotlib.pyplot as plt\n",
    "\n",
    "# Vẽ biểu đồ phân đoạn\n",
    "sns.countplot(x='Segment', data=rfm_df)\n",
    "plt.xticks(rotation=45)\n",
    "plt.title('Phân đoạn khách hàng (RFM)')\n",
    "plt.show()"
   ]
  }
 ],
 "metadata": {
  "kernelspec": {
   "display_name": "Python 3",
   "language": "python",
   "name": "python3"
  },
  "language_info": {
   "codemirror_mode": {
    "name": "ipython",
    "version": 3
   },
   "file_extension": ".py",
   "mimetype": "text/x-python",
   "name": "python",
   "nbconvert_exporter": "python",
   "pygments_lexer": "ipython3",
   "version": "3.13.2"
  }
 },
 "nbformat": 4,
 "nbformat_minor": 5
}
